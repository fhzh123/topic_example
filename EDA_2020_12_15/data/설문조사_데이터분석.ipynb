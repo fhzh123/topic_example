{
 "cells": [
  {
   "cell_type": "code",
   "execution_count": 1,
   "metadata": {},
   "outputs": [],
   "source": [
    "import numpy as np\n",
    "import pandas as pd\n",
    "import pickle"
   ]
  },
  {
   "cell_type": "code",
   "execution_count": 3,
   "metadata": {},
   "outputs": [
    {
     "data": {
      "text/plain": [
       "dict_keys(['eng_name', 'columns2eng', 'eng2columns', 'classes_name', 'cate_name', 'cont_name'])"
      ]
     },
     "execution_count": 3,
     "metadata": {},
     "output_type": "execute_result"
    }
   ],
   "source": [
    "data = pd.read_csv('./survey_answer_encoded.csv')\n",
    "with open('argument.pkl', 'rb') as f:\n",
    "    args = pickle.load(f)\n",
    "args.keys()"
   ]
  },
  {
   "cell_type": "code",
   "execution_count": 38,
   "metadata": {},
   "outputs": [
    {
     "data": {
      "text/plain": [
       "['tot_satisfy',\n",
       " 'sat_storytell',\n",
       " 'sat_mapping',\n",
       " 'sat_oled',\n",
       " 'sat_emotion',\n",
       " 'sat_conven',\n",
       " 'sat_safety',\n",
       " 'fat_move',\n",
       " 'fat_dense',\n",
       " 'fat_tech',\n",
       " 'covid_freq']"
      ]
     },
     "execution_count": 38,
     "metadata": {},
     "output_type": "execute_result"
    }
   ],
   "source": [
    "args['cont_name']"
   ]
  },
  {
   "cell_type": "code",
   "execution_count": 43,
   "metadata": {},
   "outputs": [
    {
     "data": {
      "text/plain": [
       "['1. 본 전시에 대한 전체 만족도는 어느정도 인가요?',\n",
       " '1. 원작 웹툰을 기반으로 한 전시의 스토리텔링 만족도',\n",
       " '2. 전시 작품 \"유미의 방\"에 적용된 프로젝션 맵핑 만족도',\n",
       " '3. 전시 작품 \"유미의 세포들\"과 \"프라임 사랑 세포\"에서 사용된 LG 디스플레이OLED 만족도',\n",
       " '4. 전시 작품 \"프라임 작가세포\"에 적용된 얼굴 감정인식 기술 만족도 (*거리두기 시행으로 기기를 이용 못하신 분은 본 항목을 넘겨주시기 바랍니다.)',\n",
       " '5. 장소, 일정 등 관련 전시 정보 검색 편의성에 대한 만족도',\n",
       " '6. 전시의 안전 및 관람 편의성에 대한 만족도',\n",
       " '1. 전시 동선에 의한 피로 수준',\n",
       " '2. 전시 관람객 밀도에 의한 피로 수준',\n",
       " '3. 전시에 적용된 디지털 디스플레이, 프로젝션 맵핑 등 테크놀로지로 인한 피로 수준',\n",
       " '7. COVID-19(코로나19)로 문화예술 향유의 빈도가 많이 줄었나요?']"
      ]
     },
     "execution_count": 43,
     "metadata": {},
     "output_type": "execute_result"
    }
   ],
   "source": [
    "[args['eng2columns'][args['cont_name'][i]] for i in range(11)]"
   ]
  },
  {
   "cell_type": "code",
   "execution_count": 44,
   "metadata": {},
   "outputs": [
    {
     "data": {
      "text/html": [
       "<div>\n",
       "<style scoped>\n",
       "    .dataframe tbody tr th:only-of-type {\n",
       "        vertical-align: middle;\n",
       "    }\n",
       "\n",
       "    .dataframe tbody tr th {\n",
       "        vertical-align: top;\n",
       "    }\n",
       "\n",
       "    .dataframe thead th {\n",
       "        text-align: right;\n",
       "    }\n",
       "</style>\n",
       "<table border=\"1\" class=\"dataframe\">\n",
       "  <thead>\n",
       "    <tr style=\"text-align: right;\">\n",
       "      <th></th>\n",
       "      <th>columns_eng</th>\n",
       "      <th>columns_kor</th>\n",
       "    </tr>\n",
       "  </thead>\n",
       "  <tbody>\n",
       "    <tr>\n",
       "      <th>0</th>\n",
       "      <td>tot_satisfy</td>\n",
       "      <td>1. 본 전시에 대한 전체 만족도는 어느정도 인가요?</td>\n",
       "    </tr>\n",
       "    <tr>\n",
       "      <th>1</th>\n",
       "      <td>sat_storytell</td>\n",
       "      <td>1. 원작 웹툰을 기반으로 한 전시의 스토리텔링 만족도</td>\n",
       "    </tr>\n",
       "    <tr>\n",
       "      <th>2</th>\n",
       "      <td>sat_mapping</td>\n",
       "      <td>2. 전시 작품 \"유미의 방\"에 적용된 프로젝션 맵핑 만족도</td>\n",
       "    </tr>\n",
       "    <tr>\n",
       "      <th>3</th>\n",
       "      <td>sat_oled</td>\n",
       "      <td>3. 전시 작품 \"유미의 세포들\"과 \"프라임 사랑 세포\"에서 사용된 LG 디스플레이...</td>\n",
       "    </tr>\n",
       "    <tr>\n",
       "      <th>4</th>\n",
       "      <td>sat_emotion</td>\n",
       "      <td>4. 전시 작품 \"프라임 작가세포\"에 적용된 얼굴 감정인식 기술 만족도 (*거리두기...</td>\n",
       "    </tr>\n",
       "    <tr>\n",
       "      <th>5</th>\n",
       "      <td>sat_conven</td>\n",
       "      <td>5. 장소, 일정 등 관련 전시 정보 검색 편의성에 대한 만족도</td>\n",
       "    </tr>\n",
       "    <tr>\n",
       "      <th>6</th>\n",
       "      <td>sat_safety</td>\n",
       "      <td>6. 전시의 안전 및 관람 편의성에 대한 만족도</td>\n",
       "    </tr>\n",
       "    <tr>\n",
       "      <th>7</th>\n",
       "      <td>fat_move</td>\n",
       "      <td>1. 전시 동선에 의한 피로 수준</td>\n",
       "    </tr>\n",
       "    <tr>\n",
       "      <th>8</th>\n",
       "      <td>fat_dense</td>\n",
       "      <td>2. 전시 관람객 밀도에 의한 피로 수준</td>\n",
       "    </tr>\n",
       "    <tr>\n",
       "      <th>9</th>\n",
       "      <td>fat_tech</td>\n",
       "      <td>3. 전시에 적용된 디지털 디스플레이, 프로젝션 맵핑 등 테크놀로지로 인한 피로 수준</td>\n",
       "    </tr>\n",
       "    <tr>\n",
       "      <th>10</th>\n",
       "      <td>covid_freq</td>\n",
       "      <td>7. COVID-19(코로나19)로 문화예술 향유의 빈도가 많이 줄었나요?</td>\n",
       "    </tr>\n",
       "  </tbody>\n",
       "</table>\n",
       "</div>"
      ],
      "text/plain": [
       "      columns_eng                                        columns_kor\n",
       "0     tot_satisfy                      1. 본 전시에 대한 전체 만족도는 어느정도 인가요?\n",
       "1   sat_storytell                     1. 원작 웹툰을 기반으로 한 전시의 스토리텔링 만족도\n",
       "2     sat_mapping                  2. 전시 작품 \"유미의 방\"에 적용된 프로젝션 맵핑 만족도\n",
       "3        sat_oled  3. 전시 작품 \"유미의 세포들\"과 \"프라임 사랑 세포\"에서 사용된 LG 디스플레이...\n",
       "4     sat_emotion  4. 전시 작품 \"프라임 작가세포\"에 적용된 얼굴 감정인식 기술 만족도 (*거리두기...\n",
       "5      sat_conven                5. 장소, 일정 등 관련 전시 정보 검색 편의성에 대한 만족도\n",
       "6      sat_safety                         6. 전시의 안전 및 관람 편의성에 대한 만족도\n",
       "7        fat_move                                 1. 전시 동선에 의한 피로 수준\n",
       "8       fat_dense                             2. 전시 관람객 밀도에 의한 피로 수준\n",
       "9        fat_tech    3. 전시에 적용된 디지털 디스플레이, 프로젝션 맵핑 등 테크놀로지로 인한 피로 수준\n",
       "10     covid_freq          7. COVID-19(코로나19)로 문화예술 향유의 빈도가 많이 줄었나요?"
      ]
     },
     "execution_count": 44,
     "metadata": {},
     "output_type": "execute_result"
    }
   ],
   "source": [
    "pd.DataFrame({'columns_eng': args['cont_name'], 'columns_kor': [args['eng2columns'][args['cont_name'][i]] for i in range(11)]})"
   ]
  },
  {
   "cell_type": "code",
   "execution_count": 6,
   "metadata": {},
   "outputs": [
    {
     "data": {
      "text/plain": [
       "(28, 11)"
      ]
     },
     "execution_count": 6,
     "metadata": {},
     "output_type": "execute_result"
    }
   ],
   "source": [
    "len(args['cate_name']), len(args['cont_name'])"
   ]
  },
  {
   "cell_type": "code",
   "execution_count": 16,
   "metadata": {},
   "outputs": [
    {
     "data": {
      "text/html": [
       "<div>\n",
       "<style scoped>\n",
       "    .dataframe tbody tr th:only-of-type {\n",
       "        vertical-align: middle;\n",
       "    }\n",
       "\n",
       "    .dataframe tbody tr th {\n",
       "        vertical-align: top;\n",
       "    }\n",
       "\n",
       "    .dataframe thead th {\n",
       "        text-align: right;\n",
       "    }\n",
       "</style>\n",
       "<table border=\"1\" class=\"dataframe\">\n",
       "  <thead>\n",
       "    <tr style=\"text-align: right;\">\n",
       "      <th></th>\n",
       "      <th>columns_eng</th>\n",
       "      <th>columns_kor</th>\n",
       "    </tr>\n",
       "  </thead>\n",
       "  <tbody>\n",
       "    <tr>\n",
       "      <th>0</th>\n",
       "      <td>timestamp</td>\n",
       "      <td>타임스탬프</td>\n",
       "    </tr>\n",
       "    <tr>\n",
       "      <th>1</th>\n",
       "      <td>sex</td>\n",
       "      <td>1. 성별</td>\n",
       "    </tr>\n",
       "    <tr>\n",
       "      <th>2</th>\n",
       "      <td>age</td>\n",
       "      <td>2. 연령대</td>\n",
       "    </tr>\n",
       "    <tr>\n",
       "      <th>3</th>\n",
       "      <td>job</td>\n",
       "      <td>3. 직업</td>\n",
       "    </tr>\n",
       "    <tr>\n",
       "      <th>4</th>\n",
       "      <td>background</td>\n",
       "      <td>4. 본인의 미술이나 미디어아트에 대한 사전 지식수준은 어느정도라고 생각하시나요?</td>\n",
       "    </tr>\n",
       "    <tr>\n",
       "      <th>5</th>\n",
       "      <td>agency_know</td>\n",
       "      <td>5.  본 전시는 전시기획사  '미디어 앤 아트'가 기획하였습니다. 이를 알고 계셨나요?</td>\n",
       "    </tr>\n",
       "    <tr>\n",
       "      <th>6</th>\n",
       "      <td>agency_view</td>\n",
       "      <td>6.  본 전시 이외에 전시기획사 '미디어 앤 아트'가 기획한 전시를 관람한 적이 ...</td>\n",
       "    </tr>\n",
       "    <tr>\n",
       "      <th>7</th>\n",
       "      <td>past_views</td>\n",
       "      <td>6-1. 미디어 앤 아트의 전시 가운데 관람한 전시는 무엇인가요 (중복 응답 가능)</td>\n",
       "    </tr>\n",
       "    <tr>\n",
       "      <th>8</th>\n",
       "      <td>frequency</td>\n",
       "      <td>1. 평소 전시 관람 빈도는 어떤가요?</td>\n",
       "    </tr>\n",
       "    <tr>\n",
       "      <th>9</th>\n",
       "      <td>porpose</td>\n",
       "      <td>2. 전시를 관람하는 주요 목적은 무엇인가요?</td>\n",
       "    </tr>\n",
       "    <tr>\n",
       "      <th>10</th>\n",
       "      <td>companion</td>\n",
       "      <td>3. 전시 관람 시 누구와 함께 가나요?</td>\n",
       "    </tr>\n",
       "    <tr>\n",
       "      <th>11</th>\n",
       "      <td>motivation</td>\n",
       "      <td>4. 어떤 동기로 본 전시를 관람했나요?</td>\n",
       "    </tr>\n",
       "    <tr>\n",
       "      <th>12</th>\n",
       "      <td>info_path</td>\n",
       "      <td>5. 본 전시에 대한 정보를 얻게 된 경로는 무엇인가요?</td>\n",
       "    </tr>\n",
       "    <tr>\n",
       "      <th>13</th>\n",
       "      <td>chap1_favor</td>\n",
       "      <td>1.  Chapter 1.  \"이 이야기의 주인공은 한 명이거든\"</td>\n",
       "    </tr>\n",
       "    <tr>\n",
       "      <th>14</th>\n",
       "      <td>chap1_reason</td>\n",
       "      <td>2. 앞의 문항에서 선택한 전시물을 선호한 이유는 무엇인가요?</td>\n",
       "    </tr>\n",
       "    <tr>\n",
       "      <th>15</th>\n",
       "      <td>chap2_favor</td>\n",
       "      <td>3.  Chapter 2.  \"미안하지만 나는 원칙 따져가며 일 안 해.\"</td>\n",
       "    </tr>\n",
       "    <tr>\n",
       "      <th>16</th>\n",
       "      <td>chap2_reason</td>\n",
       "      <td>4. 앞의 문항에서 선택한 전시물을 선호한 이유는 무엇인가요?</td>\n",
       "    </tr>\n",
       "    <tr>\n",
       "      <th>17</th>\n",
       "      <td>chap3_favor</td>\n",
       "      <td>5.  Chapter 3.  \"오직 유미의 행복을 위해서, 포 유미!\"</td>\n",
       "    </tr>\n",
       "    <tr>\n",
       "      <th>18</th>\n",
       "      <td>chap31_reason</td>\n",
       "      <td>6. 앞의 문항에서 선택한 전시물을 선호한 이유는 무엇인가요?</td>\n",
       "    </tr>\n",
       "    <tr>\n",
       "      <th>19</th>\n",
       "      <td>tot_satisfy</td>\n",
       "      <td>1. 본 전시에 대한 전체 만족도는 어느정도 인가요?</td>\n",
       "    </tr>\n",
       "    <tr>\n",
       "      <th>20</th>\n",
       "      <td>sat_point</td>\n",
       "      <td>2. 전시 중 만족스러웠던 점은 무엇인가요?</td>\n",
       "    </tr>\n",
       "    <tr>\n",
       "      <th>21</th>\n",
       "      <td>sat_storytell</td>\n",
       "      <td>1. 원작 웹툰을 기반으로 한 전시의 스토리텔링 만족도</td>\n",
       "    </tr>\n",
       "    <tr>\n",
       "      <th>22</th>\n",
       "      <td>sat_mapping</td>\n",
       "      <td>2. 전시 작품 \"유미의 방\"에 적용된 프로젝션 맵핑 만족도</td>\n",
       "    </tr>\n",
       "    <tr>\n",
       "      <th>23</th>\n",
       "      <td>sat_oled</td>\n",
       "      <td>3. 전시 작품 \"유미의 세포들\"과 \"프라임 사랑 세포\"에서 사용된 LG 디스플레이...</td>\n",
       "    </tr>\n",
       "    <tr>\n",
       "      <th>24</th>\n",
       "      <td>sat_emotion</td>\n",
       "      <td>4. 전시 작품 \"프라임 작가세포\"에 적용된 얼굴 감정인식 기술 만족도 (*거리두기...</td>\n",
       "    </tr>\n",
       "    <tr>\n",
       "      <th>25</th>\n",
       "      <td>sat_conven</td>\n",
       "      <td>5. 장소, 일정 등 관련 전시 정보 검색 편의성에 대한 만족도</td>\n",
       "    </tr>\n",
       "    <tr>\n",
       "      <th>26</th>\n",
       "      <td>sat_safety</td>\n",
       "      <td>6. 전시의 안전 및 관람 편의성에 대한 만족도</td>\n",
       "    </tr>\n",
       "    <tr>\n",
       "      <th>27</th>\n",
       "      <td>fat_move</td>\n",
       "      <td>1. 전시 동선에 의한 피로 수준</td>\n",
       "    </tr>\n",
       "    <tr>\n",
       "      <th>28</th>\n",
       "      <td>fat_dense</td>\n",
       "      <td>2. 전시 관람객 밀도에 의한 피로 수준</td>\n",
       "    </tr>\n",
       "    <tr>\n",
       "      <th>29</th>\n",
       "      <td>fat_tech</td>\n",
       "      <td>3. 전시에 적용된 디지털 디스플레이, 프로젝션 맵핑 등 테크놀로지로 인한 피로 수준</td>\n",
       "    </tr>\n",
       "    <tr>\n",
       "      <th>30</th>\n",
       "      <td>emotion</td>\n",
       "      <td>1. 아래의 보기 중 본 전시를 통해 느낀 감정이 있다면 무엇인가요?</td>\n",
       "    </tr>\n",
       "    <tr>\n",
       "      <th>31</th>\n",
       "      <td>immersion</td>\n",
       "      <td>2. 본 전시에서 작품에 대한 몰입감을 느끼도록 한 요소는 무엇인가요?</td>\n",
       "    </tr>\n",
       "    <tr>\n",
       "      <th>32</th>\n",
       "      <td>complement</td>\n",
       "      <td>1. 전시 만족도를 높이기 위해 보완할 것은 무엇인가요?</td>\n",
       "    </tr>\n",
       "    <tr>\n",
       "      <th>33</th>\n",
       "      <td>revisit</td>\n",
       "      <td>2. 본 전시를 재관람 할 의향이 있으신가요?</td>\n",
       "    </tr>\n",
       "    <tr>\n",
       "      <th>34</th>\n",
       "      <td>recommend</td>\n",
       "      <td>3. 본 전시를 주변 사람에게  추천할 의향이 있으신가요?</td>\n",
       "    </tr>\n",
       "    <tr>\n",
       "      <th>35</th>\n",
       "      <td>covid_after</td>\n",
       "      <td>4. 본 전시를 관람한 시점이 코로나19(COVID-19)로 인한 사회적 거리두기 ...</td>\n",
       "    </tr>\n",
       "    <tr>\n",
       "      <th>36</th>\n",
       "      <td>reserve</td>\n",
       "      <td>5. 본 전시를 예약 후 관람 하셨나요?</td>\n",
       "    </tr>\n",
       "    <tr>\n",
       "      <th>37</th>\n",
       "      <td>covid_effect</td>\n",
       "      <td>6. COVID-19(코로나19)는 이번 전시 관람 의향에 영향을 미쳤나요?</td>\n",
       "    </tr>\n",
       "    <tr>\n",
       "      <th>38</th>\n",
       "      <td>covid_freq</td>\n",
       "      <td>7. COVID-19(코로나19)로 문화예술 향유의 빈도가 많이 줄었나요?</td>\n",
       "    </tr>\n",
       "    <tr>\n",
       "      <th>39</th>\n",
       "      <td>share</td>\n",
       "      <td>8. 본 전시를 관람하신 후 관람 경험을 주변에 공유할 의향이 있으신가요?</td>\n",
       "    </tr>\n",
       "    <tr>\n",
       "      <th>40</th>\n",
       "      <td>share_method</td>\n",
       "      <td>8-1. 전시 관람 경험을 공유하는 방법은 무엇인가요?</td>\n",
       "    </tr>\n",
       "    <tr>\n",
       "      <th>41</th>\n",
       "      <td>text</td>\n",
       "      <td>&lt;유미의 세포들&gt; 전시 관람에 대해 느낀 점을 자유롭게 남겨주세요.</td>\n",
       "    </tr>\n",
       "  </tbody>\n",
       "</table>\n",
       "</div>"
      ],
      "text/plain": [
       "      columns_eng                                        columns_kor\n",
       "0       timestamp                                              타임스탬프\n",
       "1             sex                                              1. 성별\n",
       "2             age                                             2. 연령대\n",
       "3             job                                              3. 직업\n",
       "4      background      4. 본인의 미술이나 미디어아트에 대한 사전 지식수준은 어느정도라고 생각하시나요?\n",
       "5     agency_know  5.  본 전시는 전시기획사  '미디어 앤 아트'가 기획하였습니다. 이를 알고 계셨나요?\n",
       "6     agency_view  6.  본 전시 이외에 전시기획사 '미디어 앤 아트'가 기획한 전시를 관람한 적이 ...\n",
       "7      past_views     6-1. 미디어 앤 아트의 전시 가운데 관람한 전시는 무엇인가요 (중복 응답 가능)\n",
       "8       frequency                              1. 평소 전시 관람 빈도는 어떤가요?\n",
       "9         porpose                          2. 전시를 관람하는 주요 목적은 무엇인가요?\n",
       "10      companion                             3. 전시 관람 시 누구와 함께 가나요?\n",
       "11     motivation                             4. 어떤 동기로 본 전시를 관람했나요?\n",
       "12      info_path                    5. 본 전시에 대한 정보를 얻게 된 경로는 무엇인가요?\n",
       "13    chap1_favor               1.  Chapter 1.  \"이 이야기의 주인공은 한 명이거든\"\n",
       "14   chap1_reason                 2. 앞의 문항에서 선택한 전시물을 선호한 이유는 무엇인가요?\n",
       "15    chap2_favor          3.  Chapter 2.  \"미안하지만 나는 원칙 따져가며 일 안 해.\"\n",
       "16   chap2_reason                 4. 앞의 문항에서 선택한 전시물을 선호한 이유는 무엇인가요?\n",
       "17    chap3_favor            5.  Chapter 3.  \"오직 유미의 행복을 위해서, 포 유미!\"\n",
       "18  chap31_reason                 6. 앞의 문항에서 선택한 전시물을 선호한 이유는 무엇인가요?\n",
       "19    tot_satisfy                      1. 본 전시에 대한 전체 만족도는 어느정도 인가요?\n",
       "20      sat_point                           2. 전시 중 만족스러웠던 점은 무엇인가요?\n",
       "21  sat_storytell                     1. 원작 웹툰을 기반으로 한 전시의 스토리텔링 만족도\n",
       "22    sat_mapping                  2. 전시 작품 \"유미의 방\"에 적용된 프로젝션 맵핑 만족도\n",
       "23       sat_oled  3. 전시 작품 \"유미의 세포들\"과 \"프라임 사랑 세포\"에서 사용된 LG 디스플레이...\n",
       "24    sat_emotion  4. 전시 작품 \"프라임 작가세포\"에 적용된 얼굴 감정인식 기술 만족도 (*거리두기...\n",
       "25     sat_conven                5. 장소, 일정 등 관련 전시 정보 검색 편의성에 대한 만족도\n",
       "26     sat_safety                         6. 전시의 안전 및 관람 편의성에 대한 만족도\n",
       "27       fat_move                                 1. 전시 동선에 의한 피로 수준\n",
       "28      fat_dense                             2. 전시 관람객 밀도에 의한 피로 수준\n",
       "29       fat_tech    3. 전시에 적용된 디지털 디스플레이, 프로젝션 맵핑 등 테크놀로지로 인한 피로 수준\n",
       "30        emotion            1. 아래의 보기 중 본 전시를 통해 느낀 감정이 있다면 무엇인가요? \n",
       "31      immersion            2. 본 전시에서 작품에 대한 몰입감을 느끼도록 한 요소는 무엇인가요?\n",
       "32     complement                    1. 전시 만족도를 높이기 위해 보완할 것은 무엇인가요?\n",
       "33        revisit                          2. 본 전시를 재관람 할 의향이 있으신가요?\n",
       "34      recommend                   3. 본 전시를 주변 사람에게  추천할 의향이 있으신가요?\n",
       "35    covid_after  4. 본 전시를 관람한 시점이 코로나19(COVID-19)로 인한 사회적 거리두기 ...\n",
       "36        reserve                             5. 본 전시를 예약 후 관람 하셨나요?\n",
       "37   covid_effect         6. COVID-19(코로나19)는 이번 전시 관람 의향에 영향을 미쳤나요?\n",
       "38     covid_freq          7. COVID-19(코로나19)로 문화예술 향유의 빈도가 많이 줄었나요?\n",
       "39          share          8. 본 전시를 관람하신 후 관람 경험을 주변에 공유할 의향이 있으신가요?\n",
       "40   share_method                    8-1. 전시 관람 경험을 공유하는 방법은 무엇인가요? \n",
       "41           text              <유미의 세포들> 전시 관람에 대해 느낀 점을 자유롭게 남겨주세요."
      ]
     },
     "execution_count": 16,
     "metadata": {},
     "output_type": "execute_result"
    }
   ],
   "source": [
    "pd.DataFrame({'columns_eng': args['eng2columns'].keys(), 'columns_kor': args['columns2eng'].keys()})"
   ]
  },
  {
   "cell_type": "markdown",
   "metadata": {},
   "source": [
    "EDA"
   ]
  },
  {
   "cell_type": "markdown",
   "metadata": {},
   "source": [
    "1. ['text'] 적은 사람들 특징 살펴보기\n",
    "  - ['text'] 적은 사람들의 척도형 문항 특징\n",
    "  - ['text'] 적은 사람들 중, 성별/나이/직업\n",
    "  - ['revisit'] 과의 관계\n",
    "2. ['revisit'] 과 ['fat_...'] 과의 관계 (피로수준과 재방문)\n",
    "3. "
   ]
  },
  {
   "cell_type": "code",
   "execution_count": null,
   "metadata": {},
   "outputs": [],
   "source": []
  },
  {
   "cell_type": "markdown",
   "metadata": {},
   "source": [
    "텍스트 데이터 추출"
   ]
  },
  {
   "cell_type": "code",
   "execution_count": 17,
   "metadata": {},
   "outputs": [
    {
     "data": {
      "text/plain": [
       "0                        NaN\n",
       "1                        NaN\n",
       "2                        NaN\n",
       "3                        NaN\n",
       "4       귀여운 세포를 볼 수 있어서 좋았다.\n",
       "               ...          \n",
       "590    너무 즐겁고 마음이 몽ㄱ.ㄹ몽글해쟜어요\n",
       "591                      NaN\n",
       "592                     포 유미\n",
       "593                  너무 좋았어용\n",
       "594                      NaN\n",
       "Name: text, Length: 595, dtype: object"
      ]
     },
     "execution_count": 17,
     "metadata": {},
     "output_type": "execute_result"
    }
   ],
   "source": [
    "data['text']"
   ]
  },
  {
   "cell_type": "code",
   "execution_count": 20,
   "metadata": {},
   "outputs": [
    {
     "data": {
      "text/plain": [
       "297"
      ]
     },
     "execution_count": 20,
     "metadata": {},
     "output_type": "execute_result"
    }
   ],
   "source": [
    "data['text'].isnull().sum()"
   ]
  },
  {
   "cell_type": "code",
   "execution_count": 32,
   "metadata": {},
   "outputs": [],
   "source": [
    "text = data['text'].dropna().reset_index(drop=True)"
   ]
  },
  {
   "cell_type": "code",
   "execution_count": 33,
   "metadata": {},
   "outputs": [
    {
     "data": {
      "text/plain": [
       "0                     귀여운 세포를 볼 수 있어서 좋았다.\n",
       "1      유미의 세포들을 매우 좋아하는데 전시회로 감상해서 너무 좋았다 \n",
       "2                            좋은 추억으로 남았습니다\n",
       "3      오랜만에 싱그러움을 느낄 수 있어 좋았습니다. 감사합니다. :)\n",
       "4                                     잘봤어요\n",
       "                      ...                 \n",
       "293                               좋은시간이엿어요\n",
       "294                                재밌었어요\\n\n",
       "295                  너무 즐겁고 마음이 몽ㄱ.ㄹ몽글해쟜어요\n",
       "296                                   포 유미\n",
       "297                                너무 좋았어용\n",
       "Name: text, Length: 298, dtype: object"
      ]
     },
     "execution_count": 33,
     "metadata": {},
     "output_type": "execute_result"
    }
   ],
   "source": [
    "text"
   ]
  },
  {
   "cell_type": "code",
   "execution_count": 37,
   "metadata": {},
   "outputs": [],
   "source": [
    "text.to_csv('./survey_answer_text.csv', index=False, columns=['text'])"
   ]
  },
  {
   "cell_type": "code",
   "execution_count": null,
   "metadata": {},
   "outputs": [],
   "source": []
  }
 ],
 "metadata": {
  "kernelspec": {
   "display_name": "Python 3.7.4 64-bit ('base': conda)",
   "language": "python",
   "name": "python37464bitbaseconda6c5dfcbb36414780a68115fbf010ddd0"
  },
  "language_info": {
   "codemirror_mode": {
    "name": "ipython",
    "version": 3
   },
   "file_extension": ".py",
   "mimetype": "text/x-python",
   "name": "python",
   "nbconvert_exporter": "python",
   "pygments_lexer": "ipython3",
   "version": "3.7.4"
  }
 },
 "nbformat": 4,
 "nbformat_minor": 4
}
